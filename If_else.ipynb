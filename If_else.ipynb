{
 "cells": [
  {
   "cell_type": "code",
   "execution_count": null,
   "id": "121bc1dc",
   "metadata": {},
   "outputs": [],
   "source": [
    "num_check = int(input(\"Nhập vào số bất kỳ: \"))\n",
    "\n",
    "if num_check % 2 == 0:\n",
    "    chan = True\n",
    "else: chan = False\n",
    "    \n",
    "print(chan)"
   ]
  },
  {
   "cell_type": "code",
   "execution_count": null,
   "id": "7d49bbd7",
   "metadata": {},
   "outputs": [],
   "source": [
    "n = float(input(\"Nhập vào số bất kỳ: \"))\n",
    "\n",
    "if n %2 ==0: \n",
    "    print(\"Số chẵn\")\n",
    "elif n %2 != 0:\n",
    "    print(\"số lẽ\")\n",
    "else: print(\"Không phải số tự nhiên\")"
   ]
  },
  {
   "cell_type": "code",
   "execution_count": null,
   "id": "ce81b5e7",
   "metadata": {},
   "outputs": [],
   "source": [
    "n = int(input(\"nhập vào số bât kỳ: \"))\n",
    "\n",
    "if n == 1:\n",
    "    print(\"Hôm nay là thứ 2\")\n",
    "elif n == 2:\n",
    "    print(\"hôm nay là thứ 3\")\n",
    "elif n == 3:\n",
    "    print(\"hôm nay là thứ 4\")\n",
    "elif n == 4:\n",
    "    print(\"hôm nay là thứ 5\")\n",
    "elif n == 5:\n",
    "    print(\"hôm nay là thứ 6\")\n",
    "elif n == 6:\n",
    "    print(\"hôm nay là thứ 7\")\n",
    "elif n == 7:\n",
    "    print(\"hôm nay là chủ nhật\")\n",
    "else: print(\"Dữ liệu lỗi\")"
   ]
  },
  {
   "cell_type": "code",
   "execution_count": 3,
   "id": "65aa5800",
   "metadata": {},
   "outputs": [
    {
     "name": "stdout",
     "output_type": "stream",
     "text": [
      "Nhập vào giá tiền cần thanh toán: -2\n",
      "Dữ liệu đầu vào sai\n"
     ]
    }
   ],
   "source": [
    "price = int(input(\"Nhập vào giá tiền cần thanh toán: \"))\n",
    "\n",
    "if 0 < price <= 75:\n",
    "    print(\"Bạn cần thanh toán: \", price)\n",
    "elif 75 < price < 100:\n",
    "    print(\"Bạn cần thanh toán: \", price - 15)\n",
    "elif 100 <= price < 150:\n",
    "    print(\"Bạn cần thanh toán: \", price - 25)\n",
    "elif price >= 150: \n",
    "    print(\"Bạn cần thanh toán \", price - 50)\n",
    "else : print(\"Dữ liệu đầu vào sai\")"
   ]
  },
  {
   "cell_type": "code",
   "execution_count": 5,
   "id": "c471ca07",
   "metadata": {},
   "outputs": [
    {
     "name": "stdout",
     "output_type": "stream",
     "text": [
      "Nhập vào cân nặng: 90\n",
      "Nhập vào chiều cao m: 1.70\n",
      "Thừa cân\n"
     ]
    }
   ],
   "source": [
    "weight = float(input(\"Nhập vào cân nặng kg: \"))\n",
    "hight = float(input(\"Nhập vào chiều cao m: \"))\n",
    "\n",
    "BMI = weight/(hight*2)\n",
    "\n",
    "if 0 < BMI < 16:\n",
    "    print(\"Gầy cấp độ III\")\n",
    "elif 16 <= BMI < 17:\n",
    "    print(\"Gầy cấp độ II\")\n",
    "elif 17 <= BMI < 18.5:\n",
    "    print(\"Gầy cấp độ I\")\n",
    "elif 18.5 <= BMI < 25:\n",
    "    print(\"Bình thường\")\n",
    "elif 25 <= BMI < 30:\n",
    "    print(\"Thừa cân\")\n",
    "elif 30 <= BMI < 35:\n",
    "    print(\"Béo phì cấp độ I\")\n",
    "elif 35 <= BMI < 40:\n",
    "    print(\"Béo phì độ II\")\n",
    "elif BMI >= 40:\n",
    "    print(\"Béo phì độ III\")\n",
    "else: print(\"Dữ liệu đầu vào sai\")"
   ]
  },
  {
   "cell_type": "code",
   "execution_count": null,
   "id": "b4b985c5",
   "metadata": {},
   "outputs": [],
   "source": []
  }
 ],
 "metadata": {
  "kernelspec": {
   "display_name": "Python 3 (ipykernel)",
   "language": "python",
   "name": "python3"
  },
  "language_info": {
   "codemirror_mode": {
    "name": "ipython",
    "version": 3
   },
   "file_extension": ".py",
   "mimetype": "text/x-python",
   "name": "python",
   "nbconvert_exporter": "python",
   "pygments_lexer": "ipython3",
   "version": "3.9.7"
  }
 },
 "nbformat": 4,
 "nbformat_minor": 5
}
